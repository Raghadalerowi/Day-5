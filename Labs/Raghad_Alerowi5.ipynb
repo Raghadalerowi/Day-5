{
 "cells": [
  {
   "cell_type": "markdown",
   "metadata": {},
   "source": [
    "# Python_Lab_3\n"
   ]
  },
  {
   "cell_type": "markdown",
   "metadata": {},
   "source": [
    "### Task 1\n",
    "- Write a function named **'create_student_records'** that takes a list of tuples. Each tuple contains a student's name and their scores in three subjects. The function should return a list of dictionaries, where each dictionary represents a student with keys: name, subject1, subject2, subject3. Use list comprehension to create the list of dictionaries."
   ]
  },
  {
   "cell_type": "code",
   "execution_count": 2,
   "metadata": {},
   "outputs": [
    {
     "name": "stdout",
     "output_type": "stream",
     "text": [
      "[{'name': 'Raghad', 'subject1': 85, 'subject2': 92, 'subject3': 78}, {'name': 'Rooa', 'subject1': 76, 'subject2': 81, 'subject3': 88}, {'name': 'Hoor', 'subject1': 90, 'subject2': 95, 'subject3': 100}]\n"
     ]
    }
   ],
   "source": [
    "def create_student_records(students):\n",
    "    return [\n",
    "        {\n",
    "            \"name\": student[0],\n",
    "            \"subject1\": student[1],\n",
    "            \"subject2\": student[2],\n",
    "            \"subject3\": student[3]\n",
    "        }\n",
    "        for student in students\n",
    "    ]\n",
    "\n",
    "student_data = [\n",
    "    (\"Raghad\", 85, 92, 78),\n",
    "    (\"Rooa\", 76, 81, 88),\n",
    "    (\"Hoor\", 90, 95, 100)\n",
    "]\n",
    "\n",
    "records = create_student_records(student_data)\n",
    "print(records)\n"
   ]
  },
  {
   "cell_type": "markdown",
   "metadata": {},
   "source": [
    "### Task 2\n",
    "- Write a function named **'filter_and_sort_students'** that takes the list of dictionaries from Question 1 and returns a sorted list of student names who have an average score of 80 or more across all subjects. Sort the names in alphabetical order."
   ]
  },
  {
   "cell_type": "code",
   "execution_count": 4,
   "metadata": {},
   "outputs": [
    {
     "name": "stdout",
     "output_type": "stream",
     "text": [
      "['Hoor', 'Raghad', 'Rooa']\n"
     ]
    }
   ],
   "source": [
    "def filter_and_sort_students(student_records):\n",
    "    qualified_students = [\n",
    "        student['name'] for student in student_records\n",
    "        if (student['subject1'] + student['subject2'] + student['subject3']) / 3 >= 80\n",
    "    ]\n",
    "    \n",
    "    return sorted(qualified_students)\n",
    "\n",
    "student_records = [\n",
    "    {\"name\": \"Raghad\", \"subject1\": 85, \"subject2\": 92, \"subject3\": 78},\n",
    "    {\"name\": \"Rooa\", \"subject1\": 76, \"subject2\": 81, \"subject3\": 88},\n",
    "    {\"name\": \"Hoor\", \"subject1\": 90, \"subject2\": 95, \"subject3\": 100}\n",
    "]\n",
    "\n",
    "sorted_students = filter_and_sort_students(student_records)\n",
    "print(sorted_students)\n"
   ]
  },
  {
   "cell_type": "markdown",
   "metadata": {},
   "source": [
    "### Task 3\n",
    "- Write a function named **'get_product_info'** that prompts the user to enter information about a product. The function should ask for the product name, product price, and product quantity. If the user enters an invalid input (e.g., a non-numeric value for the price or quantity), the function should handle the error and prompt the user to enter the value again. Return a dictionary containing the product information."
   ]
  },
  {
   "cell_type": "code",
   "execution_count": 5,
   "metadata": {},
   "outputs": [
    {
     "name": "stdin",
     "output_type": "stream",
     "text": [
      "Enter the product name:  rice\n",
      "Enter the product price:  345\n",
      "Enter the product quantity:  1000\n"
     ]
    },
    {
     "name": "stdout",
     "output_type": "stream",
     "text": [
      "{'name': 'rice', 'price': 345.0, 'quantity': 1000}\n"
     ]
    }
   ],
   "source": [
    "def get_product_info():\n",
    "    product_name = input(\"Enter the product name: \")\n",
    "\n",
    "    while True:\n",
    "        try:\n",
    "            product_price = float(input(\"Enter the product price: \"))\n",
    "            if product_price < 0:\n",
    "                print(\"Price cannot be negative. Please enter a valid price.\")\n",
    "                continue\n",
    "            break\n",
    "        except ValueError:\n",
    "            print(\"Invalid input. Please enter a numeric value for the price.\")\n",
    "\n",
    "    while True:\n",
    "        try:\n",
    "            product_quantity = int(input(\"Enter the product quantity: \"))\n",
    "            if product_quantity < 0:\n",
    "                print(\"Quantity cannot be negative. Please enter a valid quantity.\")\n",
    "                continue\n",
    "            break\n",
    "        except ValueError:\n",
    "            print(\"Invalid input. Please enter a numeric value for the quantity.\")\n",
    "\n",
    "    return {\n",
    "        \"name\": product_name,\n",
    "        \"price\": product_price,\n",
    "        \"quantity\": product_quantity\n",
    "    }\n",
    "\n",
    "product_info = get_product_info()\n",
    "print(product_info)\n"
   ]
  },
  {
   "cell_type": "markdown",
   "metadata": {},
   "source": [
    "### Task 4\n",
    "- Write a function named **'get_even_numbers'** that takes a list of integers and returns a list of even numbers using list comprehension."
   ]
  },
  {
   "cell_type": "code",
   "execution_count": 6,
   "metadata": {},
   "outputs": [
    {
     "name": "stdout",
     "output_type": "stream",
     "text": [
      "[2, 4, 6, 8, 10]\n"
     ]
    }
   ],
   "source": [
    "def get_even_numbers(numbers):\n",
    "    return [num for num in numbers if num % 2 == 0]\n",
    "\n",
    "integer_list = [1, 2, 3, 4, 5, 6, 7, 8, 9, 10]\n",
    "even_numbers = get_even_numbers(integer_list)\n",
    "print(even_numbers)\n"
   ]
  },
  {
   "cell_type": "markdown",
   "metadata": {},
   "source": [
    "### Task 5\n",
    "- Write a function named **'pair_elements'** that takes two lists of equal length as parameters and returns a list of tuples, where each tuple contains corresponding elements from the two lists. Use the zip function to achieve this."
   ]
  },
  {
   "cell_type": "markdown",
   "metadata": {},
   "source": []
  },
  {
   "cell_type": "code",
   "execution_count": 7,
   "metadata": {},
   "outputs": [
    {
     "name": "stdout",
     "output_type": "stream",
     "text": [
      "[(1, 'a'), (2, 'b'), (3, 'c')]\n"
     ]
    }
   ],
   "source": [
    "def pair_elements(list1, list2):\n",
    "    if len(list1) != len(list2):\n",
    "        raise ValueError(\"Both lists must be of equal length.\")\n",
    "    \n",
    "    return list(zip(list1, list2))\n",
    "\n",
    "list_a = [1, 2, 3]\n",
    "list_b = ['a', 'b', 'c']\n",
    "paired_elements = pair_elements(list_a, list_b)\n",
    "print(paired_elements)\n"
   ]
  },
  {
   "cell_type": "markdown",
   "metadata": {},
   "source": [
    "### Task 6\n",
    "- Write a function named **'square_dict_lambda'** that takes a list of integers and returns a dictionary where the keys are the integers and the values are their squares. Use a lambda function within a dictionary comprehension to achieve this."
   ]
  },
  {
   "cell_type": "code",
   "execution_count": 8,
   "metadata": {},
   "outputs": [
    {
     "name": "stdout",
     "output_type": "stream",
     "text": [
      "{1: 1, 2: 4, 3: 9, 4: 16, 5: 25}\n"
     ]
    }
   ],
   "source": [
    "def square_dict_lambda(numbers):\n",
    "    return {num: (lambda x: x ** 2)(num) for num in numbers}\n",
    "\n",
    "\n",
    "integer_list = [1, 2, 3, 4, 5]\n",
    "squared_dict = square_dict_lambda(integer_list)\n",
    "print(squared_dict)\n"
   ]
  },
  {
   "cell_type": "code",
   "execution_count": null,
   "metadata": {},
   "outputs": [],
   "source": []
  }
 ],
 "metadata": {
  "kernelspec": {
   "display_name": "Python 3 (ipykernel)",
   "language": "python",
   "name": "python3"
  },
  "language_info": {
   "codemirror_mode": {
    "name": "ipython",
    "version": 3
   },
   "file_extension": ".py",
   "mimetype": "text/x-python",
   "name": "python",
   "nbconvert_exporter": "python",
   "pygments_lexer": "ipython3",
   "version": "3.12.4"
  }
 },
 "nbformat": 4,
 "nbformat_minor": 4
}
